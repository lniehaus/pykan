{
 "cells": [
  {
   "cell_type": "code",
   "execution_count": 11,
   "metadata": {},
   "outputs": [
    {
     "name": "stdout",
     "output_type": "stream",
     "text": [
      "Batch 0: Loss = 14.0095\n",
      "Batch 100: Loss = 1.1597\n",
      "Batch 200: Loss = 1.4180\n",
      "Batch 300: Loss = 1.3825\n",
      "Batch 400: Loss = 1.5685\n",
      "Batch 500: Loss = 1.3616\n",
      "Batch 600: Loss = 1.1849\n",
      "Batch 700: Loss = 0.8189\n",
      "Batch 800: Loss = 0.2472\n",
      "Batch 900: Loss = 1.4644\n"
     ]
    }
   ],
   "source": [
    "import torch\n",
    "from torch.utils.data import DataLoader\n",
    "import torchvision\n",
    "\n",
    "import torch.nn as nn\n",
    "import torch.optim as optim\n",
    "import torchvision.transforms as transforms\n",
    "\n",
    "# Define MLP with probes\n",
    "class MLPWithProbes(nn.Module):\n",
    "    def __init__(self, input_size=784, hidden_sizes=[512, 256, 128, 64, 32], num_classes=10):\n",
    "        super(MLPWithProbes, self).__init__()\n",
    "        self.layers = nn.ModuleList()\n",
    "        self.probes = nn.ModuleList()\n",
    "        \n",
    "        # Create main layers\n",
    "        prev_size = input_size\n",
    "        for hidden_size in hidden_sizes:\n",
    "            self.layers.append(nn.Linear(prev_size, hidden_size))\n",
    "            self.layers.append(nn.ReLU())\n",
    "            # Add probe for each layer\n",
    "            self.probes.append(nn.Linear(hidden_size, num_classes))\n",
    "            prev_size = hidden_size\n",
    "            \n",
    "        # Output layer\n",
    "        self.layers.append(nn.Linear(prev_size, num_classes))\n",
    "\n",
    "    def forward(self, x):\n",
    "        probe_outputs = []\n",
    "        for i, layer in enumerate(self.layers):\n",
    "            x = layer(x)\n",
    "            # Add probe output after each hidden layer (before output layer)\n",
    "            if isinstance(layer, nn.Linear) and i < len(self.layers) - 1:\n",
    "                probe_outputs.append(self.probes[len(probe_outputs)](x))\n",
    "        \n",
    "        return x, probe_outputs\n",
    "\n",
    "# Load MNIST dataset\n",
    "transform = transforms.Compose([transforms.ToTensor(), transforms.Normalize((0.1307,), (0.3081,))])\n",
    "train_dataset = torchvision.datasets.MNIST('./data', train=True, download=True, transform=transform)\n",
    "train_loader = DataLoader(train_dataset, batch_size=64, shuffle=True)\n",
    "\n",
    "# Initialize model and optimizer\n",
    "model = MLPWithProbes()\n",
    "optimizer = optim.Adam(model.parameters())\n",
    "criterion = nn.CrossEntropyLoss()\n",
    "\n",
    "# Training loop\n",
    "def train_epoch():\n",
    "    model.train()\n",
    "    for batch_idx, (data, target) in enumerate(train_loader):\n",
    "        data = data.view(-1, 784)\n",
    "        optimizer.zero_grad()\n",
    "        \n",
    "        # Forward pass\n",
    "        main_output, probe_outputs = model(data)\n",
    "        \n",
    "        # Calculate losses\n",
    "        main_loss = criterion(main_output, target)\n",
    "        probe_losses = [criterion(probe_out, target) for probe_out in probe_outputs]\n",
    "        \n",
    "        # Total loss is main loss plus probe losses\n",
    "        total_loss = main_loss + sum(probe_losses)\n",
    "        \n",
    "        # Backward pass\n",
    "        total_loss.backward()\n",
    "        optimizer.step()\n",
    "        \n",
    "        if batch_idx % 100 == 0:\n",
    "            print(f'Batch {batch_idx}: Loss = {total_loss.item():.4f}')\n",
    "\n",
    "# Train for one epoch\n",
    "train_epoch()"
   ]
  },
  {
   "cell_type": "code",
   "execution_count": 12,
   "metadata": {},
   "outputs": [
    {
     "name": "stdout",
     "output_type": "stream",
     "text": [
      "Main classifier accuracy: 96.56%\n",
      "Probe 1 accuracy: 90.06%\n",
      "Probe 2 accuracy: 96.55%\n",
      "Probe 3 accuracy: 96.57%\n",
      "Probe 4 accuracy: 96.53%\n",
      "Probe 5 accuracy: 96.51%\n"
     ]
    }
   ],
   "source": [
    "def evaluate_probes():\n",
    "    model.eval()\n",
    "    correct_main = 0\n",
    "    correct_probes = [0] * len(model.probes)\n",
    "    total = 0\n",
    "    \n",
    "    with torch.no_grad():\n",
    "        for data, target in train_loader:\n",
    "            data = data.view(-1, 784)\n",
    "            main_output, probe_outputs = model(data)\n",
    "            \n",
    "            # Main classifier accuracy\n",
    "            pred = main_output.argmax(dim=1)\n",
    "            correct_main += pred.eq(target).sum().item()\n",
    "            \n",
    "            # Probe accuracies\n",
    "            for i, probe_output in enumerate(probe_outputs):\n",
    "                pred = probe_output.argmax(dim=1)\n",
    "                correct_probes[i] += pred.eq(target).sum().item()\n",
    "            \n",
    "            total += target.size(0)\n",
    "    \n",
    "    # Print accuracies\n",
    "    print(f\"Main classifier accuracy: {100. * correct_main / total:.2f}%\")\n",
    "    for i, correct in enumerate(correct_probes):\n",
    "        print(f\"Probe {i+1} accuracy: {100. * correct / total:.2f}%\")\n",
    "\n",
    "evaluate_probes()"
   ]
  },
  {
   "cell_type": "code",
   "execution_count": null,
   "metadata": {},
   "outputs": [],
   "source": []
  },
  {
   "cell_type": "code",
   "execution_count": null,
   "metadata": {},
   "outputs": [],
   "source": []
  },
  {
   "cell_type": "code",
   "execution_count": null,
   "metadata": {},
   "outputs": [],
   "source": []
  }
 ],
 "metadata": {
  "kernelspec": {
   "display_name": "Python 3",
   "language": "python",
   "name": "python3"
  },
  "language_info": {
   "codemirror_mode": {
    "name": "ipython",
    "version": 3
   },
   "file_extension": ".py",
   "mimetype": "text/x-python",
   "name": "python",
   "nbconvert_exporter": "python",
   "pygments_lexer": "ipython3",
   "version": "3.9.7"
  }
 },
 "nbformat": 4,
 "nbformat_minor": 2
}
