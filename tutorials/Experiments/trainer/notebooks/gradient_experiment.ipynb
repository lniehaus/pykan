{
 "cells": [
  {
   "cell_type": "code",
   "execution_count": 11,
   "metadata": {},
   "outputs": [
    {
     "name": "stdout",
     "output_type": "stream",
     "text": []
    }
   ],
   "source": [
    "import torch\n",
    "import torch.nn as nn\n",
    "import torch.optim as optim\n",
    "\n",
    "# Define a simple model\n",
    "model = nn.Linear(2, 1)\n",
    "\n",
    "# Define a loss function\n",
    "criterion = nn.MSELoss()\n",
    "\n",
    "# Define an optimizer\n",
    "optimizer = optim.SGD(model.parameters(), lr=0.01)\n",
    "\n",
    "# Dummy input and target\n",
    "inputs = torch.tensor([[1.0, -1.0]], requires_grad=True)\n",
    "target = torch.tensor([[1.0]])\n",
    "\n",
    "# Forward pass\n",
    "output = model(inputs)\n",
    "loss = criterion(output, target)\n",
    "\n",
    "# Backward pass\n",
    "loss.backward()\n",
    "\n",
    "# Access gradients\n",
    "for name, param in model.named_parameters():\n",
    "    print(f\"Gradient for {name}: {param.grad}\")"
   ]
  },
  {
   "cell_type": "code",
   "execution_count": 12,
   "metadata": {},
   "outputs": [
    {
     "name": "stdout",
     "output_type": "stream",
     "text": []
    }
   ],
   "source": [
    "from kan import *\n",
    "import matplotlib.pyplot as plt\n",
    "import seaborn as sns\n",
    "\n",
    "# Define the Kolmogorov-Arnold network\n",
    "#kan = KolmogorovArnoldNetwork(input_dim=2, hidden_dim=10, output_dim=1)\n",
    "\n",
    "width = [2, 5, 1]\n",
    "device = 'cpu'\n",
    "sp_trainable = False\n",
    "sb_trainable = False\n",
    "affine_trainable = False\n",
    "args = {\n",
    "        'grid': 'uniform',\n",
    "        'k': 5,\n",
    "        'seed': 0,\n",
    "        'base_fun': 'relu',\n",
    "        'spline_noise_scale': 0.0,\n",
    "        'mode': 'train',\n",
    "        'init_mode': 'default',\n",
    "        'ckpt_path': None,\n",
    "        'sp_trainable': False,\n",
    "        'sb_trainable': False,\n",
    "        'affine_trainable': False,\n",
    "        'requires_grad': False\n",
    "        }\n",
    "\n",
    "model = KAN(\n",
    "        width=width, device=device,\n",
    "        #grid=args.grid, k=args.k, seed=args.seed,\n",
    "        sp_trainable=sp_trainable, sb_trainable=sb_trainable, affine_trainable=affine_trainable,\n",
    "        #base_fun=args.base_fun,\n",
    "        #noise_scale=args.spline_noise_scale,\n",
    "        #mode=args.mode,\n",
    "        #init_mode=args.init_mode,\n",
    "        #ckpt_path=ckpt_folder\n",
    "        )"
   ]
  },
  {
   "cell_type": "code",
   "execution_count": 13,
   "metadata": {},
   "outputs": [
    {
     "name": "stdout",
     "output_type": "stream",
     "text": []
    },
    {
     "name": "stdout",
     "output_type": "stream",
     "text": []
    }
   ],
   "source": [
    "\n",
    "# # Dummy input and target\n",
    "# inputs = torch.tensor([[1.0, 2.0]], requires_grad=True)\n",
    "# target = torch.tensor([[1.0]])\n",
    "\n",
    "inputs = torch.tensor([[1.0, 2.0],[3.0, 4.0]], requires_grad=True)\n",
    "target = torch.tensor([[1.0, 2.0]])\n",
    "\n",
    "# Forward pass\n",
    "output = model(inputs)\n",
    "\n",
    "loss = nn.MSELoss()(output, target)\n",
    "\n",
    "# Backward pass\n",
    "loss.backward()\n",
    "\n",
    "# Extract gradients\n",
    "coefs = []\n",
    "activations = []\n",
    "gradients = []\n",
    "\n",
    "\n",
    "for layer_index, (act_fun, preacts, postacts, postsplines) in enumerate(zip(model.act_fun, model.spline_preacts, model.spline_postacts, model.spline_postsplines)):\n",
    "\n",
    "        print(f\"Layer {layer_index}\")\n",
    "        coef = act_fun.coef\n",
    "\n",
    "        activations.append(postacts.detach().numpy())\n",
    "        coefs.append(coef.detach().numpy())\n",
    "        gradients.append(coef.grad.detach().numpy())   \n",
    "\n"
   ]
  },
  {
   "cell_type": "code",
   "execution_count": 14,
   "metadata": {},
   "outputs": [
    {
     "name": "stdout",
     "output_type": "stream",
     "text": []
    }
   ],
   "source": [
    "print([c for coef in coefs for c in coef.flatten()])"
   ]
  },
  {
   "cell_type": "markdown",
   "metadata": {},
   "source": [
    "# Coefs"
   ]
  },
  {
   "cell_type": "code",
   "execution_count": 15,
   "metadata": {},
   "outputs": [
    {
     "data": {},
     "metadata": {},
     "output_type": "display_data"
    },
    {
     "data": {},
     "metadata": {},
     "output_type": "display_data"
    }
   ],
   "source": [
    "# Plot bar chart of coefficients\n",
    "plt.figure(figsize=(10, 6))\n",
    "flat_coefs = [c for coef in coefs for c in coef.flatten()]\n",
    "#flat_coefs = [c.flatten() for c in coefs]\n",
    "plt.bar(range(len(flat_coefs)), flat_coefs)\n",
    "plt.xlabel('Coefficient Index')\n",
    "plt.ylabel('Coefficient Value')\n",
    "plt.title('Coefficients of the Kolmogorov-Arnold Network')\n",
    "plt.show()\n",
    "\n",
    "# # Plot histograms of coefficients by layer\n",
    "# plt.figure(figsize=(10, 6))\n",
    "# for i, layer_coef in enumerate(coefs):\n",
    "#     plt.hist(layer_coef.flatten(), bins=50, alpha=0.5, label=f'Layer {i + 1}')\n",
    "# plt.xlabel('Coefficient Value')\n",
    "# plt.ylabel('Frequency')\n",
    "# plt.title('Combined Histogram of Coefficients for All Layers')\n",
    "# plt.legend()\n",
    "# plt.show()\n",
    "\n",
    "# Plot histograms with KDE for each layer\n",
    "plt.figure(figsize=(10, 6))\n",
    "for i, layer_coef in enumerate(coefs):\n",
    "    sns.histplot(layer_coef.flatten(), bins=50, kde=True, stat=\"density\", alpha=0.5, label=f'Layer {i + 1}')\n",
    "plt.xlabel('Coefficient Value')\n",
    "plt.ylabel('Density')\n",
    "plt.title('Coefficient Histograms with KDE for Each Layer')\n",
    "plt.legend()\n",
    "plt.show()"
   ]
  },
  {
   "cell_type": "code",
   "execution_count": 16,
   "metadata": {},
   "outputs": [
    {
     "data": {},
     "metadata": {},
     "output_type": "display_data"
    },
    {
     "data": {},
     "metadata": {},
     "output_type": "display_data"
    }
   ],
   "source": [
    "import numpy as np\n",
    "\n",
    "# Plot bar chart of coefficients with mean and std lines\n",
    "plt.figure(figsize=(10, 6))\n",
    "flat_coefs = [c for coef in coefs for c in coef.flatten()]\n",
    "mean = np.mean(flat_coefs)\n",
    "std = np.std(flat_coefs)\n",
    "\n",
    "plt.bar(range(len(flat_coefs)), flat_coefs)\n",
    "plt.axhline(y=mean, color='r', linestyle='--', label=f'Mean: {mean:.3f}')\n",
    "plt.axhline(y=mean+std, color='g', linestyle=':', label=f'Mean ± Std: {std:.3f}')  \n",
    "plt.axhline(y=mean-std, color='g', linestyle=':')\n",
    "plt.xlabel('Coefficient Index')\n",
    "plt.ylabel('Coefficient Value') \n",
    "plt.title(f'Coefficients of the Kolmogorov-Arnold Network')\n",
    "plt.legend()\n",
    "plt.show()\n",
    "\n",
    "# Plot histograms with KDE for each layer\n",
    "plt.figure(figsize=(10, 6))\n",
    "for i, layer_coef in enumerate(coefs):\n",
    "    mean = np.mean(layer_coef.flatten())\n",
    "    std = np.std(layer_coef.flatten())\n",
    "    sns.histplot(layer_coef.flatten(), bins=50, kde=True, stat=\"density\", alpha=0.5, label=f'Layer {i + 1}')\n",
    "    plt.axvline(x=mean, color='r', linestyle='--', label=f'Mean: {mean:.3f}')\n",
    "    plt.axvline(x=mean+std, color='g', linestyle=':', label=f'Mean ± Std: {std:.3f}')\n",
    "    plt.axvline(x=mean-std, color='g', linestyle=':')\n",
    "plt.xlabel('Coefficient Value')\n",
    "plt.ylabel('Density')\n",
    "plt.title('Coefficient Histograms with KDE for Each Layer')\n",
    "plt.legend()\n",
    "plt.show()"
   ]
  },
  {
   "cell_type": "code",
   "execution_count": 17,
   "metadata": {},
   "outputs": [
    {
     "data": {},
     "metadata": {},
     "output_type": "display_data"
    }
   ],
   "source": [
    "import numpy as np\n",
    "import matplotlib.pyplot as plt\n",
    "import seaborn as sns\n",
    "\n",
    "# Assuming 'coefs' is defined and contains the coefficients for each layer\n",
    "\n",
    "# Create a single figure with two subplots\n",
    "plt.figure(figsize=(10, 12))\n",
    "\n",
    "# Plot bar chart of coefficients with mean and std lines in the first subplot\n",
    "plt.subplot(2, 1, 1)  # 2 rows, 1 column, 1st subplot\n",
    "flat_coefs = [c for coef in coefs for c in coef.flatten()]\n",
    "mean = np.mean(flat_coefs)\n",
    "std = np.std(flat_coefs)\n",
    "\n",
    "plt.bar(range(len(flat_coefs)), flat_coefs)\n",
    "plt.axhline(y=mean, color='r', linestyle='--', label=f'Mean: {mean:.3f}')\n",
    "plt.axhline(y=mean + std, color='g', linestyle=':', label=f'Mean ± Std: {std:.3f}')  \n",
    "plt.axhline(y=mean - std, color='g', linestyle=':')\n",
    "plt.xlabel('Coefficient Index')\n",
    "plt.ylabel('Coefficient Value') \n",
    "plt.title('Coefficients of the Kolmogorov-Arnold Network')\n",
    "plt.legend()\n",
    "\n",
    "# Plot histograms with KDE for each layer in the second subplot\n",
    "plt.subplot(2, 1, 2)  # 2 rows, 1 column, 2nd subplot\n",
    "colors = sns.color_palette(\"husl\", len(coefs))  # Generate a color palette\n",
    "\n",
    "for i, layer_coef in enumerate(coefs):\n",
    "    mean = np.mean(layer_coef.flatten())\n",
    "    std = np.std(layer_coef.flatten())\n",
    "    \n",
    "    # Use the same color for the histogram and the axvlines\n",
    "    color = colors[i]\n",
    "    \n",
    "    sns.histplot(layer_coef.flatten(), bins=50, kde=True, stat=\"density\", alpha=0.5, color=color, label=f'Layer {i + 1}')\n",
    "    plt.axvline(x=mean, color=color, linestyle='--', label=f'Mean: {mean:.3f} (Layer {i + 1})')\n",
    "    plt.axvline(x=mean + std, color=color, linestyle=':', label=f'Mean ± Std: {std:.3f} (Layer {i + 1})')\n",
    "    plt.axvline(x=mean - std, color=color, linestyle=':')\n",
    "\n",
    "plt.xlabel('Coefficient Value')\n",
    "plt.ylabel('Density')\n",
    "plt.title('Coefficient Histograms with KDE for Each Layer')\n",
    "plt.legend()\n",
    "\n",
    "# Adjust layout to prevent overlap\n",
    "plt.tight_layout()\n",
    "plt.show()"
   ]
  },
  {
   "cell_type": "code",
   "execution_count": 18,
   "metadata": {},
   "outputs": [
    {
     "data": {},
     "metadata": {},
     "output_type": "display_data"
    },
    {
     "data": {},
     "metadata": {},
     "output_type": "display_data"
    },
    {
     "data": {},
     "metadata": {},
     "output_type": "display_data"
    },
    {
     "data": {},
     "metadata": {},
     "output_type": "display_data"
    },
    {
     "data": {},
     "metadata": {},
     "output_type": "display_data"
    },
    {
     "data": {},
     "execution_count": 18,
     "metadata": {},
     "output_type": "execute_result"
    },
    {
     "data": {},
     "metadata": {},
     "output_type": "display_data"
    }
   ],
   "source": [
    "import numpy as np\n",
    "import pandas as pd\n",
    "import seaborn as sns\n",
    "import matplotlib.pyplot as plt\n",
    "\n",
    "def plot_violins(model, title, mode=\"act\", sample_size=100):\n",
    "    data = []\n",
    "    for layer_index, (act_fun, acts, preacts, postacts, postsplines) in enumerate(zip(model.act_fun, model.acts, model.spline_preacts, model.spline_postacts, model.spline_postsplines)):\n",
    "        \n",
    "        coef = act_fun.coef\n",
    "\n",
    "        dist_np = None  # Changed from acts_np to dist_np\n",
    "        if mode == \"coef\":\n",
    "            dist_np = coef.detach().numpy()\n",
    "        elif mode == \"act\":\n",
    "            dist_np = postacts.detach().numpy()\n",
    "        elif mode == \"grad\":\n",
    "            dist_np = coef.grad.detach().numpy()\n",
    "\n",
    "        # Ensure dist_np is a 1D array\n",
    "        dist_np = dist_np.flatten()\n",
    "\n",
    "        # Sample a subset of activations if there are more than sample_size\n",
    "        if len(dist_np) > sample_size:\n",
    "            sampled_acts = np.random.choice(dist_np, sample_size, replace=False)\n",
    "        else:\n",
    "            sampled_acts = dist_np  # Use all if less than sample_size\n",
    "        \n",
    "        # Append layer index and sampled activations to the data list\n",
    "        data.extend([(layer_index, act) for act in sampled_acts])\n",
    "\n",
    "    # Convert the data into a DataFrame\n",
    "    df = pd.DataFrame(data, columns=['Layer', 'Activation'])\n",
    "\n",
    "    plt.figure(figsize=(12, 6))\n",
    "\n",
    "    # Create a violin plot\n",
    "    sns.violinplot(data=df, x=\"Layer\", y=\"Activation\", inner=\"quart\")\n",
    "\n",
    "    # Adding labels and title\n",
    "    plt.title(title)\n",
    "    plt.xlabel('Layer')\n",
    "    plt.ylabel('Activations')\n",
    "    plt.tight_layout()\n",
    "\n",
    "    # Show plot\n",
    "    plt.show()\n",
    "    return plt.gcf()\n",
    "\n",
    "# Example usage\n",
    "plot_violins(model, \"Coefficients of the Kolmogorov-Arnold Network\", mode=\"coef\", sample_size=100)\n",
    "plot_violins(model, \"Activations of the Kolmogorov-Arnold Network\", mode=\"act\", sample_size=100)\n",
    "plot_violins(model, \"Gradients of the Kolmogorov-Arnold Network\", mode=\"grad\", sample_size=100)"
   ]
  },
  {
   "cell_type": "markdown",
   "metadata": {},
   "source": [
    "# Activations"
   ]
  },
  {
   "cell_type": "code",
   "execution_count": 19,
   "metadata": {},
   "outputs": [
    {
     "data": {},
     "metadata": {},
     "output_type": "display_data"
    }
   ],
   "source": [
    "import numpy as np\n",
    "import matplotlib.pyplot as plt\n",
    "import seaborn as sns\n",
    "\n",
    "# Assuming 'activations' is defined and contains the activations for each layer\n",
    "\n",
    "# Create a single figure with two subplots\n",
    "plt.figure(figsize=(10, 12))\n",
    "\n",
    "# Plot bar chart of activations with mean and std lines in the first subplot\n",
    "plt.subplot(2, 1, 1)  # 2 rows, 1 column, 1st subplot\n",
    "flat_activations = [a for act in activations for a in act.flatten()]\n",
    "mean = np.mean(flat_activations)\n",
    "std = np.std(flat_activations)\n",
    "\n",
    "plt.bar(range(len(flat_activations)), flat_activations)\n",
    "plt.axhline(y=mean, color='r', linestyle='--', label=f'Mean: {mean:.3f}')\n",
    "plt.axhline(y=mean + std, color='g', linestyle=':', label=f'Mean ± Std: {std:.3f}')  \n",
    "plt.axhline(y=mean - std, color='g', linestyle=':')\n",
    "plt.xlabel('Activation Index')\n",
    "plt.ylabel('Activation Value')\n",
    "plt.title('Activations of the Kolmogorov-Arnold Network')\n",
    "plt.legend()\n",
    "\n",
    "# Plot histograms with KDE for each layer in the second subplot\n",
    "plt.subplot(2, 1, 2)  # 2 rows, 1 column, 2nd subplot\n",
    "colors = sns.color_palette(\"husl\", len(activations))  # Generate a color palette\n",
    "\n",
    "for i, layer_act in enumerate(activations):\n",
    "    mean = np.mean(layer_act.flatten())\n",
    "    std = np.std(layer_act.flatten())\n",
    "    \n",
    "    # Use the same color for the histogram and the axvlines\n",
    "    color = colors[i]\n",
    "    \n",
    "    sns.histplot(layer_act.flatten(), bins=50, kde=True, stat=\"density\", alpha=0.5, color=color, label=f'Layer {i + 1}')\n",
    "    plt.axvline(x=mean, color=color, linestyle='--', label=f'Mean: {mean:.3f} (Layer {i + 1})')\n",
    "    plt.axvline(x=mean + std, color=color, linestyle=':', label=f'Mean ± Std: {std:.3f} (Layer {i + 1})')\n",
    "    plt.axvline(x=mean - std, color=color, linestyle=':')\n",
    "\n",
    "plt.xlabel('Activation Value')\n",
    "plt.ylabel('Density')\n",
    "plt.title('Activation Histograms with KDE for Each Layer')\n",
    "plt.legend()\n",
    "\n",
    "# Adjust layout to prevent overlap\n",
    "plt.tight_layout()\n",
    "plt.show()"
   ]
  },
  {
   "cell_type": "markdown",
   "metadata": {},
   "source": [
    "# Gradient"
   ]
  },
  {
   "cell_type": "code",
   "execution_count": 20,
   "metadata": {},
   "outputs": [
    {
     "data": {},
     "metadata": {},
     "output_type": "display_data"
    }
   ],
   "source": [
    "import numpy as np\n",
    "import matplotlib.pyplot as plt\n",
    "import seaborn as sns\n",
    "\n",
    "# Assuming 'gradients' is defined and contains the gradients for each layer\n",
    "\n",
    "# Create a single figure with two subplots\n",
    "plt.figure(figsize=(10, 12))\n",
    "\n",
    "# Plot bar chart of gradients with mean and std lines in the first subplot\n",
    "plt.subplot(2, 1, 1)  # 2 rows, 1 column, 1st subplot\n",
    "flat_gradients = [g for grad in gradients for g in grad.flatten()]\n",
    "mean = np.mean(flat_gradients)\n",
    "std = np.std(flat_gradients)\n",
    "\n",
    "plt.bar(range(len(flat_gradients)), flat_gradients, label=f'Gradients')\n",
    "plt.axhline(y=mean, color='r', linestyle='--', label=f'Mean: {mean:.3f}')\n",
    "plt.axhline(y=mean + std, color='g', linestyle=':', label=f'Mean ± Std: {std:.3f}')  \n",
    "plt.axhline(y=mean - std, color='g', linestyle=':')\n",
    "plt.xlabel('Gradient Index')\n",
    "plt.ylabel('Gradient Value')\n",
    "plt.title('Gradients of the Kolmogorov-Arnold Network')\n",
    "plt.legend()\n",
    "\n",
    "# Plot histograms with KDE for each layer in the second subplot\n",
    "plt.subplot(2, 1, 2)  # 2 rows, 1 column, 2nd subplot\n",
    "colors = sns.color_palette(\"husl\", len(gradients))  # Generate a color palette\n",
    "\n",
    "for i, layer_grad in enumerate(gradients):\n",
    "    mean = np.mean(layer_grad.flatten())\n",
    "    std = np.std(layer_grad.flatten())\n",
    "    \n",
    "    # Use the same color for the histogram and the axvlines\n",
    "    color = colors[i]\n",
    "    \n",
    "    sns.histplot(layer_grad.flatten(), bins=50, kde=True, stat=\"density\", alpha=0.5, color=color, label=f'Layer {i + 1}')\n",
    "    plt.axvline(x=mean, color=color, linestyle='--', label=f'Mean: {mean:.3f} (Layer {i + 1})')\n",
    "    plt.axvline(x=mean + std, color=color, linestyle=':', label=f'Mean ± Std: {std:.3f} (Layer {i + 1})')\n",
    "    plt.axvline(x=mean - std, color=color, linestyle=':')\n",
    "\n",
    "plt.xlabel('Gradient Value')\n",
    "plt.ylabel('Density')\n",
    "plt.title('Gradient Histograms with KDE for Each Layer')\n",
    "plt.legend()\n",
    "\n",
    "# Adjust layout to prevent overlap\n",
    "plt.tight_layout()\n",
    "plt.show()"
   ]
  },
  {
   "cell_type": "code",
   "execution_count": null,
   "metadata": {},
   "outputs": [],
   "source": []
  }
 ],
 "metadata": {
  "kernelspec": {
   "display_name": "Python 3",
   "language": "python",
   "name": "python3"
  },
  "language_info": {
   "codemirror_mode": {
    "name": "ipython",
    "version": 3
   },
   "file_extension": ".py",
   "mimetype": "text/x-python",
   "name": "python",
   "nbconvert_exporter": "python",
   "pygments_lexer": "ipython3",
   "version": "3.9.7"
  }
 },
 "nbformat": 4,
 "nbformat_minor": 2
}
