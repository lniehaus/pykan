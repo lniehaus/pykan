{
 "cells": [
  {
   "cell_type": "markdown",
   "metadata": {},
   "source": [
    "# Linear Classifier Probes\n",
    "\n",
    "This tutorial introduces Linear Classifier Probes, a useful tool for analyzing activations of hidden layers, following the ideas outlined in the paper [*Understanding intermediate layers\n",
    "using linear classifier probes*](https://arxiv.org/pdf/1610.01644.pdf) by Alain & Bengio (2018).\n",
    "The implementation relies on a subclass of the hooks and probe system already in `dltb`.\n",
    "\n",
    "In this example, we will train linear classifier probes on every second layer of LeNet using the CIFAR-10 dataset in PyTorch."
   ]
  },
  {
   "cell_type": "markdown",
   "metadata": {},
   "source": [
    "## Loading the model\n",
    "\n",
    "First, we need to load the model into a `dltb.Graph` representation, so we can attach our probe. The model was trained using [PyTorch's Training a classifier tutorial](https://pytorch.org/tutorials/beginner/blitz/cifar10_tutorial.html) and its weights exported.\n",
    "\n",
    "After we have defined our architecture, we can load its weights from `\"cifar_net.pth\"`.\n"
   ]
  },
  {
   "cell_type": "code",
   "execution_count": 1,
   "metadata": {},
   "outputs": [
    {
     "ename": "ModuleNotFoundError",
     "evalue": "No module named 'probes'",
     "output_type": "error",
     "traceback": [
      "\u001b[0;31m---------------------------------------------------------------------------\u001b[0m",
      "\u001b[0;31mModuleNotFoundError\u001b[0m                       Traceback (most recent call last)",
      "Cell \u001b[0;32mIn[1], line 12\u001b[0m\n\u001b[1;32m      8\u001b[0m \u001b[38;5;28;01mfrom\u001b[39;00m\u001b[38;5;250m \u001b[39m\u001b[38;5;21;01msklearn\u001b[39;00m\u001b[38;5;21;01m.\u001b[39;00m\u001b[38;5;21;01mlinear_model\u001b[39;00m\u001b[38;5;250m \u001b[39m\u001b[38;5;28;01mimport\u001b[39;00m SGDClassifier\n\u001b[1;32m     10\u001b[0m \u001b[38;5;28;01mfrom\u001b[39;00m\u001b[38;5;250m \u001b[39m\u001b[38;5;21;01mdltb\u001b[39;00m\u001b[38;5;21;01m.\u001b[39;00m\u001b[38;5;21;01mpytorch\u001b[39;00m\u001b[38;5;250m \u001b[39m\u001b[38;5;28;01mimport\u001b[39;00m Graph\n\u001b[0;32m---> 12\u001b[0m \u001b[38;5;28;01mfrom\u001b[39;00m\u001b[38;5;250m \u001b[39m\u001b[38;5;21;01mprobes\u001b[39;00m\u001b[38;5;250m \u001b[39m\u001b[38;5;28;01mimport\u001b[39;00m LinearClassifierProbe\n\u001b[1;32m     15\u001b[0m \u001b[38;5;28;01mclass\u001b[39;00m\u001b[38;5;250m \u001b[39m\u001b[38;5;21;01mNet\u001b[39;00m(nn\u001b[38;5;241m.\u001b[39mModule):\n\u001b[1;32m     16\u001b[0m     \u001b[38;5;28;01mdef\u001b[39;00m\u001b[38;5;250m \u001b[39m\u001b[38;5;21m__init__\u001b[39m(\u001b[38;5;28mself\u001b[39m):\n",
      "\u001b[0;31mModuleNotFoundError\u001b[0m: No module named 'probes'"
     ]
    }
   ],
   "source": [
    "import torch\n",
    "import torch.nn as nn\n",
    "import torch.nn.functional as F\n",
    "import torchvision\n",
    "import numpy as np\n",
    "import matplotlib.pyplot as plt\n",
    "from tqdm.notebook import tqdm\n",
    "from sklearn.linear_model import SGDClassifier\n",
    "\n",
    "from dltb.pytorch import Graph\n",
    "\n",
    "from probes import LinearClassifierProbe\n",
    "\n",
    "\n",
    "class Net(nn.Module):\n",
    "    def __init__(self):\n",
    "        super().__init__()\n",
    "        self.conv1 = nn.Conv2d(3, 6, 5)\n",
    "        self.pool = nn.MaxPool2d(2, 2)\n",
    "        self.conv2 = nn.Conv2d(6, 16, 5)\n",
    "        self.fc1 = nn.Linear(16 * 5 * 5, 120)\n",
    "        self.fc2 = nn.Linear(120, 84)\n",
    "        self.fc3 = nn.Linear(84, 10)\n",
    "\n",
    "    def forward(self, x):\n",
    "        x = self.pool(F.relu(self.conv1(x)))\n",
    "        x = self.pool(F.relu(self.conv2(x)))\n",
    "        x = torch.flatten(x, 1) # flatten all dimensions except batch\n",
    "        x = F.relu(self.fc1(x))\n",
    "        x = F.relu(self.fc2(x))\n",
    "        x = self.fc3(x)\n",
    "        return x\n",
    "\n",
    "# Initialize the network representation and load its weights    \n",
    "net = Net()\n",
    "net.load_state_dict(torch.load(\"./data/cifar_net.pth\"))    "
   ]
  },
  {
   "cell_type": "code",
   "execution_count": null,
   "metadata": {},
   "outputs": [
    {
     "name": "stdout",
     "output_type": "stream",
     "text": [
      "+---------+------------------------------------+-------------+---------+\n",
      "| name    | node type                          | param count | outputs |\n",
      "+=========+====================================+=============+=========+\n",
      "| x       | Input                              | 0           | conv1   |\n",
      "| conv1   | Convolution                        | 456         | relu    |\n",
      "| relu    | relu (function call)               | 0           | pool    |\n",
      "| pool    | Pooling(method: max)               | 0           | conv2   |\n",
      "| conv2   | Convolution                        | 2416        | relu_1  |\n",
      "| relu_1  | relu (function call)               | 0           | pool_1  |\n",
      "| pool_1  | Pooling(method: max)               | 0           | flatten |\n",
      "| flatten | flatten (function call)            | 0           | fc1     |\n",
      "| fc1     | Fully Connected(num_features: 120) | 48120       | relu_2  |\n",
      "| relu_2  | relu (function call)               | 0           | fc2     |\n",
      "| fc2     | Fully Connected(num_features: 84)  | 10164       | relu_3  |\n",
      "| relu_3  | relu (function call)               | 0           | fc3     |\n",
      "| fc3     | Fully Connected(num_features: 10)  | 850         |         |\n",
      "+---------+------------------------------------+-------------+---------+\n"
     ]
    }
   ],
   "source": [
    "# Convert the network to dltb.Graph\n",
    "graph = Graph(net, input_shape=(3, 32, 32))\n",
    "graph.summary()"
   ]
  },
  {
   "cell_type": "markdown",
   "metadata": {},
   "source": [
    "## Preparing the data\n",
    "\n",
    "The CIFAR-10 dataset is conveniently provided to us using `torchvision`. We can load the training and testing data into the `trainloader` and `testloader` respectively, which will also apply normalization to the images.\n",
    "\n",
    "Note: Depending on your network and dataset, you might need to resize the images when loading them, so they fit into the input the network expects."
   ]
  },
  {
   "cell_type": "code",
   "execution_count": null,
   "metadata": {},
   "outputs": [
    {
     "name": "stdout",
     "output_type": "stream",
     "text": [
      "Files already downloaded and verified\n",
      "Files already downloaded and verified\n"
     ]
    }
   ],
   "source": [
    "\n",
    "transform = torchvision.transforms.Compose(\n",
    "    [\n",
    "        torchvision.transforms.ToTensor(),\n",
    "        torchvision.transforms.Normalize((0.5, 0.5, 0.5), (0.5, 0.5, 0.5)),\n",
    "    ]\n",
    ")\n",
    "\n",
    "BATCH_SIZE = 32\n",
    "\n",
    "trainset = torchvision.datasets.CIFAR10(root='./data', train=True,\n",
    "                                        download=True, transform=transform)\n",
    "trainloader = torch.utils.data.DataLoader(trainset, batch_size=BATCH_SIZE,\n",
    "                                          shuffle=True, num_workers=2)\n",
    "\n",
    "testset = torchvision.datasets.CIFAR10(root='./data', train=False,\n",
    "                                       download=True, transform=transform)\n",
    "testloader = torch.utils.data.DataLoader(testset, batch_size=BATCH_SIZE,\n",
    "                                         shuffle=False, num_workers=2)"
   ]
  },
  {
   "cell_type": "markdown",
   "metadata": {},
   "source": [
    "## Defining the linear classifier probe\n",
    "\n",
    "A `LinearClassifierProbe` accepts a *classifier* as well as *classes* you want to predict. For now, keep the classifier needs to implement the `fit_partial()` method, but you can also export the layer activations beforehand, train your classifier on that data, and put the trained classifier into a LinearClassifierProbe.\n",
    "\n",
    "Here we are using the SGDClassifier from scikit-learn with cross-entropy loss and a constant learning rate of 0.01.\n",
    "\n",
    "Since the CIFAR-10 dataset consists of 10 classes, we can describe their one-hot-encoded version as an identity matrix of width and height 10.\n",
    "\n",
    "To attach the probe, select the desired layer and use `add_probe()`. By default the probe will measure the layers output.\n"
   ]
  },
  {
   "cell_type": "code",
   "execution_count": null,
   "metadata": {},
   "outputs": [],
   "source": [
    "# Starting at 1 to skip the input layer\n",
    "LAYERS_TO_ATTACH = [i for i in range(1, 13)]\n",
    "\n",
    "# Define an individual probe for each layer\n",
    "probes = [LinearClassifierProbe(\n",
    "    classifier=SGDClassifier(loss=\"log_loss\", learning_rate=\"constant\", eta0=0.01),\n",
    "    classes = np.identity(10)\n",
    ") for _ in LAYERS_TO_ATTACH]\n",
    "\n",
    "# Attach the probe to the network\n",
    "for probe, n_layer in zip(probes, LAYERS_TO_ATTACH):\n",
    "    graph.nodes[n_layer].add_probe(probe)"
   ]
  },
  {
   "cell_type": "markdown",
   "metadata": {},
   "source": [
    "## Training the classifier\n",
    "\n",
    "Now that the probes are attached, we run through the training dataset to train our classifier probe. Each batch of data will train one step of gradient descent in the classifier. It is also important to provide the labels each batch because the original network is already pretrained and does not require the labels during the forward pass."
   ]
  },
  {
   "cell_type": "code",
   "execution_count": null,
   "metadata": {},
   "outputs": [
    {
     "data": {
      "application/vnd.jupyter.widget-view+json": {
       "model_id": "ef0cd07ac60e4775a861d910d76cb74a",
       "version_major": 2,
       "version_minor": 0
      },
      "text/plain": [
       "Training:   0%|          | 0/1563 [00:00<?, ?it/s]"
      ]
     },
     "metadata": {},
     "output_type": "display_data"
    }
   ],
   "source": [
    "for data in tqdm(trainloader, \"Training\"):\n",
    "    input_images, input_labels = data\n",
    "\n",
    "    for probe in probes:\n",
    "        probe.labels = input_labels.numpy()\n",
    "\n",
    "    graph.forward(input_images)"
   ]
  },
  {
   "cell_type": "markdown",
   "metadata": {},
   "source": [
    "## Validation\n",
    "\n",
    "The validation step for the probes is quite similar to the training step. We first set the mode of all probes from `\"train\"` to `\"predict\"`.\n",
    "\n",
    "Then we run through the testing dataset the same way as before. The reason to provide the labels again is so that the probes can calculate their individual accuracy scores.\n",
    "\n",
    "Afterward, we gather all the results in a bar diagram."
   ]
  },
  {
   "cell_type": "code",
   "execution_count": null,
   "metadata": {},
   "outputs": [
    {
     "data": {
      "application/vnd.jupyter.widget-view+json": {
       "model_id": "d83b0ba5be00487e8eddbb7a65d5b03a",
       "version_major": 2,
       "version_minor": 0
      },
      "text/plain": [
       "Testing:   0%|          | 0/313 [00:00<?, ?it/s]"
      ]
     },
     "metadata": {},
     "output_type": "display_data"
    }
   ],
   "source": [
    "# Change each probe into prediction mode\n",
    "for probe in probes:\n",
    "    probe.set_mode(\"predict\")\n",
    "\n",
    "# Run through the validation set\n",
    "for data in tqdm(testloader, \"Testing\"):\n",
    "    input_images, input_labels = data\n",
    "\n",
    "    for probe in probes:\n",
    "        probe.labels = input_labels.numpy()\n",
    "\n",
    "    graph.forward(input_images)"
   ]
  },
  {
   "cell_type": "code",
   "execution_count": null,
   "metadata": {},
   "outputs": [
    {
     "data": {
      "image/png": "[encoded data removed]",
      "text/plain": [
       "<Figure size 1200x480 with 1 Axes>"
      ]
     },
     "metadata": {},
     "output_type": "display_data"
    }
   ],
   "source": [
    "fig, ax = plt.subplots()\n",
    "fig.set_figwidth(12)\n",
    "\n",
    "ax.bar([probe.name for probe in probes], [probe.accuracy for probe in probes], alpha=0.8)\n",
    "\n",
    "ax.set_ylabel(\"Probe Accuracy\")\n",
    "ax.set_xlabel(\"Layer Name\")\n",
    "ax.set_title(\"Classifier Probe Accuracy per Layer of LeNet\")\n",
    "ax.hlines(y=0.5604, xmin=-1, xmax=len(probes), linestyle=\"dashed\", color=\"gray\")\n",
    "ax.annotate(\"Original Training Accuracy (56.04%)\", xy=(-1, 0.57), color=\"gray\")\n",
    "\n",
    "plt.show()"
   ]
  }
 ],
 "metadata": {
  "kernelspec": {
   "display_name": "Python 3",
   "language": "python",
   "name": "python3"
  },
  "language_info": {
   "codemirror_mode": {
    "name": "ipython",
    "version": 3
   },
   "file_extension": ".py",
   "mimetype": "text/x-python",
   "name": "python",
   "nbconvert_exporter": "python",
   "pygments_lexer": "ipython3",
   "version": "3.9.7"
  }
 },
 "nbformat": 4,
 "nbformat_minor": 2
}
